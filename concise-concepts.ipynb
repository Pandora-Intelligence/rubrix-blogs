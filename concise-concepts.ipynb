{
 "cells": [
  {
   "cell_type": "markdown",
   "metadata": {},
   "source": [
    "# A few shot NER cook-off!"
   ]
  },
  {
   "cell_type": "markdown",
   "metadata": {},
   "source": [
    "Hola! I'm David and I love cooking 👨🏽‍🍳 and coding 👨🏽‍💻. This blog will introduce **few-shot-learning** and **Named Entity Recognition (NER)** without having to rely on fancy deep learning model, which are often only available for English. Also, I will show you how this can be done to recognize ingredients from recipes.\n",
    "\n",
    "During my time at Pandora Intelligence, I lobied for creating cool open-source stuff. So recently, I wrote a [spaCy](https://spacy.io/) package, called `concise-concepts`, which can be used for few-shot-NER.\n",
    "\n",
    "Do you want to stay updated on me or Pandora Intelligence. Follow us on [Github](https://github.com/Pandora-Intelligence)!"
   ]
  },
  {
   "cell_type": "markdown",
   "metadata": {},
   "source": [
    "## Concise Concepts\n",
    "\n",
    "Generally, pre-trained NER models are trained to recognize a fixed set 17 general entity labels like Person (PER), Location (LOC), and Organization (ORG). For our usecase, we would like to identify ingredients like 'fruits', 'vegetables', 'meat', 'dairy', 'herbs' and 'carbs'. \n",
    "\n",
    "Ideally, we would like to train a custom model, which means that we would need enough high quality labelled training data with the new set of labels. Rubrix comes in handy for organizing, analyzing and storing this data, but we would first need to actually find some data. Within `concise-concepts`, few-shot NER is done by relying on the reasoning behind word2vec.\n",
    "\n",
    "Models like word2vec have been designed, based on the idea that word that are used in similar context have a similar meaning. During training words are mapped to a vector space, where similar words should end up in a similar region within that vector space. This allows us to do 2 things:\n",
    "\n",
    "1. Retrieve the *n* most similar words. Based on a few examples per label, we can now create a list of other words that should also belong to that label. Using this list, we can then label new data by finding exact word matches.\n",
    "2. Compare word vectors for similarity. After having found these exact word matches, we can compare their vectors against the vectors of the entire group. This comparison can determine how represenative the word is for the group, which can be used to provide a confidence score for the recognized entity.\n",
    "\n",
    "Want to know more about `concise-concepts`. Feel free to watch this [YouTube video](https://www.youtube.com/watch?v=DnQKOuG-I_0)."
   ]
  },
  {
   "cell_type": "markdown",
   "metadata": {},
   "source": [
    "## A proof of concepts (pun intented)\n",
    "\n",
    "Before gathering recipe data and actually uploading the data to Rubrix. I will first show you the capabilities of `concise-concepts`."
   ]
  },
  {
   "cell_type": "code",
   "execution_count": 17,
   "metadata": {},
   "outputs": [
    {
     "data": {
      "text/html": [
       "<span class=\"tex2jax_ignore\"><div class=\"entities\" style=\"line-height: 2.5; direction: ltr\"></br>    Heat the oil in a large pan and add the \n",
       "<mark class=\"entity\" style=\"background: limegreen; padding: 0.45em 0.6em; margin: 0 0.25em; line-height: 1; border-radius: 0.35em;\">\n",
       "    Onion\n",
       "    <span style=\"font-size: 0.8em; font-weight: bold; line-height: 1; border-radius: 0.35em; vertical-align: middle; margin-left: 0.5rem\">VEGETABLE (87%)</span>\n",
       "</mark>\n",
       ", \n",
       "<mark class=\"entity\" style=\"background: limegreen; padding: 0.45em 0.6em; margin: 0 0.25em; line-height: 1; border-radius: 0.35em;\">\n",
       "    celery\n",
       "    <span style=\"font-size: 0.8em; font-weight: bold; line-height: 1; border-radius: 0.35em; vertical-align: middle; margin-left: 0.5rem\">VEGETABLE (88%)</span>\n",
       "</mark>\n",
       " and \n",
       "<mark class=\"entity\" style=\"background: limegreen; padding: 0.45em 0.6em; margin: 0 0.25em; line-height: 1; border-radius: 0.35em;\">\n",
       "    carrots\n",
       "    <span style=\"font-size: 0.8em; font-weight: bold; line-height: 1; border-radius: 0.35em; vertical-align: middle; margin-left: 0.5rem\">VEGETABLE (90%)</span>\n",
       "</mark>\n",
       ". </br>    Then, cook over a medium–low heat for 10 minutes, or until softened. </br>    Add the courgette, \n",
       "<mark class=\"entity\" style=\"background: limegreen; padding: 0.45em 0.6em; margin: 0 0.25em; line-height: 1; border-radius: 0.35em;\">\n",
       "    garlic\n",
       "    <span style=\"font-size: 0.8em; font-weight: bold; line-height: 1; border-radius: 0.35em; vertical-align: middle; margin-left: 0.5rem\">VEGETABLE (85%)</span>\n",
       "</mark>\n",
       ", \n",
       "<mark class=\"entity\" style=\"background: darkgreen; padding: 0.45em 0.6em; margin: 0 0.25em; line-height: 1; border-radius: 0.35em;\">\n",
       "    red peppers\n",
       "    <span style=\"font-size: 0.8em; font-weight: bold; line-height: 1; border-radius: 0.35em; vertical-align: middle; margin-left: 0.5rem\">HERBS (68%)</span>\n",
       "</mark>\n",
       " and \n",
       "<mark class=\"entity\" style=\"background: darkgreen; padding: 0.45em 0.6em; margin: 0 0.25em; line-height: 1; border-radius: 0.35em;\">\n",
       "    oregano\n",
       "    <span style=\"font-size: 0.8em; font-weight: bold; line-height: 1; border-radius: 0.35em; vertical-align: middle; margin-left: 0.5rem\">HERBS (88%)</span>\n",
       "</mark>\n",
       " and cook for 2–3 minutes.</br>    Later, add some \n",
       "<mark class=\"entity\" style=\"background: darkorange; padding: 0.45em 0.6em; margin: 0 0.25em; line-height: 1; border-radius: 0.35em;\">\n",
       "    oranges\n",
       "    <span style=\"font-size: 0.8em; font-weight: bold; line-height: 1; border-radius: 0.35em; vertical-align: middle; margin-left: 0.5rem\">FRUIT (81%)</span>\n",
       "</mark>\n",
       " and \n",
       "<mark class=\"entity\" style=\"background: salmon; padding: 0.45em 0.6em; margin: 0 0.25em; line-height: 1; border-radius: 0.35em;\">\n",
       "    chickens\n",
       "    <span style=\"font-size: 0.8em; font-weight: bold; line-height: 1; border-radius: 0.35em; vertical-align: middle; margin-left: 0.5rem\">MEAT (52%)</span>\n",
       "</mark>\n",
       ". </div></span>"
      ],
      "text/plain": [
       "<IPython.core.display.HTML object>"
      ]
     },
     "metadata": {},
     "output_type": "display_data"
    }
   ],
   "source": [
    "\n",
    "import spacy\n",
    "from spacy import displacy\n",
    "import concise_concepts\n",
    "\n",
    "data = {\n",
    "    \"fruit\": [\"apple\", \"pear\", \"orange\"],\n",
    "    \"vegetable\": [\"broccoli\", \"spinach\", \"tomato\", \"garlic\", \"onion\", 'beans'],\n",
    "    \"meat\": [\"beef\", \"pork\", \"fish\", \"lamb\", \"bacon\", \"ham\", 'chicken'],\n",
    "    \"dairy\": [\"milk\", \"butter\", \"eggs\", 'cheese', 'cheddar', 'yoghurt', 'egg'],\n",
    "    \"herbs\": [\"rosemary\", \"pepper\", \"salt\", \"sage\", \"basil\", 'cilantro'],\n",
    "    \"carbs\": [\"bread\", \"rice\", \"toast\", \"tortilla\", 'noodles', 'bagel', 'croissant'],\n",
    "}\n",
    "\n",
    "topn = [200,250,150,100,250,250]\n",
    "\n",
    "text = \"\"\"\n",
    "    Heat the oil in a large pan and add the Onion, celery and carrots. \n",
    "    Then, cook over a medium–low heat for 10 minutes, or until softened. \n",
    "    Add the courgette, garlic, red peppers and oregano and cook for 2–3 minutes.\n",
    "    Later, add some oranges and chickens. \"\"\"\n",
    "\n",
    "nlp = spacy.load(\"en_core_web_lg\", disable=['ner'])\n",
    "nlp.add_pipe(\"concise_concepts\", config={\"data\": data, \"ent_score\": True})\n",
    "doc = nlp(text)\n",
    "\n",
    "options = {\n",
    "    \"colors\": {\n",
    "        \"fruit\": \"darkorange\",\n",
    "        \"vegetable\": \"limegreen\",\n",
    "        \"meat\": \"salmon\",\n",
    "        \"dairy\": \"lightblue\",\n",
    "        \"herbs\": \"darkgreen\",\n",
    "        \"carbs\": \"lightbrown\"\n",
    "    },\n",
    "    \"ents\": [\"fruit\", \"vegetable\", \"meat\", \"dairy\", \"herbs\", \"carbs\"],\n",
    "}\n",
    "\n",
    "ents = doc.ents\n",
    "for ent in ents:\n",
    "    new_label = f\"{ent.label_} ({float(ent._.ent_score):.0%})\"\n",
    "    options[\"colors\"][new_label] = options[\"colors\"].get(ent.label_.lower(), None)\n",
    "    options[\"ents\"].append(new_label)\n",
    "    ent.label_ = new_label\n",
    "doc.ents = ents\n",
    "\n",
    "displacy.render(doc, style=\"ent\", options=options)"
   ]
  },
  {
   "cell_type": "markdown",
   "metadata": {},
   "source": [
    "![base demo displacy](img/concise_concepts//base_displacy.png)"
   ]
  },
  {
   "cell_type": "markdown",
   "metadata": {},
   "source": [
    "## Gathering data\n",
    "\n",
    "for gathering the data, I will be using the `feedparser` library, which can load and parse arbitrary rss feeds. I found some interesting rss feeds via a quick Google search on \"recipe data rss\" resulting in [FeedSpot](https://blog.feedspot.com/home_cooking_rss_feeds/). Note that I am also cleaning some HTML formatting with BeautifulSoup."
   ]
  },
  {
   "cell_type": "code",
   "execution_count": 4,
   "metadata": {},
   "outputs": [
    {
     "data": {
      "text/plain": [
       "'Roasted Leg of Lamb is flavored with zippy lemon juice, fresh garlic, rosemary, and is topped with a sauce made from its own pan drippings and herbs. This is the best way to enjoy roast lamb!\\nThe post Roasted Leg of Lamb appeared first on thestayathomechef.com.'"
      ]
     },
     "execution_count": 4,
     "metadata": {},
     "output_type": "execute_result"
    }
   ],
   "source": [
    "import feedparser\n",
    "from bs4 import BeautifulSoup as bs\n",
    "\n",
    "rss_feeds = [\n",
    "    'https://thestayathomechef.com/feed',\n",
    "    'https://101cookbooks.com/feed',\n",
    "    'https://spendwithpennies.com/feed',\n",
    "    'https://barefeetinthekitchen.com/feed',\n",
    "    'https://thesouthernladycooks.com/feed',\n",
    "    'https://ohsweetbasil.com/feed',\n",
    "    'https://panlasangpinoy.com/feed',\n",
    "    'https://damndelicious.net/feed',\n",
    "    'https://leitesculinaria.com/feed',\n",
    "    'https://inspiredtaste.com/feed'\n",
    "]\n",
    "\n",
    "summaries = []\n",
    "for source in rss_feeds:\n",
    "    result = feedparser.parse(source)\n",
    "    for entry in result.get('entries', []):\n",
    "        summaries.append(entry.get('summary'))\n",
    "\n",
    "summaries = [bs(text).get_text().replace(r'\\w+', '') for text in summaries]\n",
    "summaries[0]"
   ]
  },
  {
   "cell_type": "code",
   "execution_count": 20,
   "metadata": {},
   "outputs": [
    {
     "data": {
      "text/html": [
       "<span class=\"tex2jax_ignore\"><div class=\"entities\" style=\"line-height: 2.5; direction: ltr\">\n",
       "<mark class=\"entity\" style=\"background: salmon; padding: 0.45em 0.6em; margin: 0 0.25em; line-height: 1; border-radius: 0.35em;\">\n",
       "    Roasted\n",
       "    <span style=\"font-size: 0.8em; font-weight: bold; line-height: 1; border-radius: 0.35em; vertical-align: middle; margin-left: 0.5rem\">MEAT (79%)</span>\n",
       "</mark>\n",
       " Leg of \n",
       "<mark class=\"entity\" style=\"background: salmon; padding: 0.45em 0.6em; margin: 0 0.25em; line-height: 1; border-radius: 0.35em;\">\n",
       "    Lamb\n",
       "    <span style=\"font-size: 0.8em; font-weight: bold; line-height: 1; border-radius: 0.35em; vertical-align: middle; margin-left: 0.5rem\">MEAT (77%)</span>\n",
       "</mark>\n",
       " is flavored with zippy \n",
       "<mark class=\"entity\" style=\"background: darkorange; padding: 0.45em 0.6em; margin: 0 0.25em; line-height: 1; border-radius: 0.35em;\">\n",
       "    lemon juice\n",
       "    <span style=\"font-size: 0.8em; font-weight: bold; line-height: 1; border-radius: 0.35em; vertical-align: middle; margin-left: 0.5rem\">FRUIT (84%)</span>\n",
       "</mark>\n",
       ", \n",
       "<mark class=\"entity\" style=\"background: limegreen; padding: 0.45em 0.6em; margin: 0 0.25em; line-height: 1; border-radius: 0.35em;\">\n",
       "    fresh garlic\n",
       "    <span style=\"font-size: 0.8em; font-weight: bold; line-height: 1; border-radius: 0.35em; vertical-align: middle; margin-left: 0.5rem\">VEGETABLE (83%)</span>\n",
       "</mark>\n",
       ", \n",
       "<mark class=\"entity\" style=\"background: darkgreen; padding: 0.45em 0.6em; margin: 0 0.25em; line-height: 1; border-radius: 0.35em;\">\n",
       "    rosemary\n",
       "    <span style=\"font-size: 0.8em; font-weight: bold; line-height: 1; border-radius: 0.35em; vertical-align: middle; margin-left: 0.5rem\">HERBS (86%)</span>\n",
       "</mark>\n",
       ", and is topped with a \n",
       "<mark class=\"entity\" style=\"background: salmon; padding: 0.45em 0.6em; margin: 0 0.25em; line-height: 1; border-radius: 0.35em;\">\n",
       "    sauce\n",
       "    <span style=\"font-size: 0.8em; font-weight: bold; line-height: 1; border-radius: 0.35em; vertical-align: middle; margin-left: 0.5rem\">MEAT (82%)</span>\n",
       "</mark>\n",
       " made from its own pan drippings and \n",
       "<mark class=\"entity\" style=\"background: darkgreen; padding: 0.45em 0.6em; margin: 0 0.25em; line-height: 1; border-radius: 0.35em;\">\n",
       "    herbs\n",
       "    <span style=\"font-size: 0.8em; font-weight: bold; line-height: 1; border-radius: 0.35em; vertical-align: middle; margin-left: 0.5rem\">HERBS (70%)</span>\n",
       "</mark>\n",
       ". This is the best way to enjoy \n",
       "<mark class=\"entity\" style=\"background: salmon; padding: 0.45em 0.6em; margin: 0 0.25em; line-height: 1; border-radius: 0.35em;\">\n",
       "    roast lamb\n",
       "    <span style=\"font-size: 0.8em; font-weight: bold; line-height: 1; border-radius: 0.35em; vertical-align: middle; margin-left: 0.5rem\">MEAT (87%)</span>\n",
       "</mark>\n",
       "!</br>The post \n",
       "<mark class=\"entity\" style=\"background: salmon; padding: 0.45em 0.6em; margin: 0 0.25em; line-height: 1; border-radius: 0.35em;\">\n",
       "    Roasted\n",
       "    <span style=\"font-size: 0.8em; font-weight: bold; line-height: 1; border-radius: 0.35em; vertical-align: middle; margin-left: 0.5rem\">MEAT (79%)</span>\n",
       "</mark>\n",
       " Leg of \n",
       "<mark class=\"entity\" style=\"background: salmon; padding: 0.45em 0.6em; margin: 0 0.25em; line-height: 1; border-radius: 0.35em;\">\n",
       "    Lamb\n",
       "    <span style=\"font-size: 0.8em; font-weight: bold; line-height: 1; border-radius: 0.35em; vertical-align: middle; margin-left: 0.5rem\">MEAT (77%)</span>\n",
       "</mark>\n",
       " appeared first on thestayathomechef.com.</div></span>"
      ],
      "text/plain": [
       "<IPython.core.display.HTML object>"
      ]
     },
     "metadata": {},
     "output_type": "display_data"
    }
   ],
   "source": [
    "doc = nlp(summaries[0])\n",
    "\n",
    "ents = doc.ents\n",
    "for ent in ents:\n",
    "    new_label = f\"{ent.label_} ({float(ent._.ent_score):.0%})\"\n",
    "    options[\"colors\"][new_label] = options[\"colors\"].get(ent.label_.lower(), None)\n",
    "    options[\"ents\"].append(new_label)\n",
    "    ent.label_ = new_label\n",
    "doc.ents = ents\n",
    "\n",
    "displacy.render(doc, style=\"ent\", options=options)"
   ]
  },
  {
   "cell_type": "markdown",
   "metadata": {},
   "source": [
    "![rss demo displacy](img/concise_concepts//rss_displacy.png)"
   ]
  },
  {
   "cell_type": "markdown",
   "metadata": {},
   "source": [
    "## Calling upon Rubrix\n",
    "\n",
    "We've gathered an cleaned our data and showed that it also works on new data. So, now we can actually start logging it to Rubrix. Since I am running on my local environment, I decided to use the [docker-compose](https://rubrix.readthedocs.io/en/stable/getting_started/advanced_setup_guides.html#launching-the-web-app-via-docker-compose) deployment on the Rubrix website. In short, this deploys an ElasticSearch instance to store our data, and the Rubrix server, which also comes with a nice UI under [http://localhost:6900/](http://localhost:6900/). \n",
    "\n",
    "For our usecase, we are doing entity classification, which falls under the [Token Classification](https://rubrix.readthedocs.io/en/stable/guides/cookbook.html#Token-Classification) category. Nice! There even is a [tutorial](https://rubrix.readthedocs.io/en/stable/guides/cookbook.html#NER) specifically for spaCy.\n",
    "\n"
   ]
  },
  {
   "cell_type": "code",
   "execution_count": 21,
   "metadata": {},
   "outputs": [
    {
     "data": {
      "text/plain": [
       "BulkResponse(dataset='concise-concepts', processed=185, failed=0)"
      ]
     },
     "execution_count": 21,
     "metadata": {},
     "output_type": "execute_result"
    }
   ],
   "source": [
    "import rubrix as rb\n",
    "import spacy\n",
    "\n",
    "# Creating spaCy doc\n",
    "docs = nlp.pipe(summaries)\n",
    "\n",
    "records = []\n",
    "for doc in docs:\n",
    "    # Creating the prediction entity as a list of tuples (entity, start_char, end_char)\n",
    "    prediction = [(ent.label_, ent.start_char, ent.end_char, ent._.ent_score) for ent in doc.ents]\n",
    "    \n",
    "    # Building TokenClassificationRecord\n",
    "    record = rb.TokenClassificationRecord(\n",
    "        text=doc.text,\n",
    "        tokens=[token.text for token in doc],\n",
    "        prediction=prediction,\n",
    "        prediction_agent=\"David\",\n",
    "    )\n",
    "    records.append(record)\n",
    "\n",
    "# Logging into Rubrix\n",
    "rb.log(records=records, name=\"concise-concepts\", metadata=data, verbose=False)"
   ]
  },
  {
   "cell_type": "markdown",
   "metadata": {},
   "source": [
    "We can now go to [http://localhost:6900/](http://localhost:6900/), look at the results and start with a base annotation for most labels. Even though, they the predicitons are not perfect, it surely beats starting from scratch.\n",
    "\n",
    "![rss demo displacy](img/concise_concepts/rubrix_ui.png)"
   ]
  },
  {
   "cell_type": "markdown",
   "metadata": {},
   "source": [
    "## Summary\n",
    "\n",
    "There are many more things we could do like fine-tuning the few-shot training data, annotate data, or train a model. However, I think I've made my point so it is time for a short recap.\n",
    "\n",
    "We have introduced **few-shot-learning** and **Named Entity Recognition (NER)**. We have also shown how a simple package like `concise-concepts` can be used for easy data labelling and entity scoring for any language out there. Lastly, we have shown how to store these predictions in Rubrix.\n",
    "\n",
    "Don't forget life is too short to eat bad food!\n",
    "\n",
    "Want to run this code yourself? Take a look at my the [Github Repo](https://github.com/Pandora-Intelligence/rubrix-blogs).\n"
   ]
  }
 ],
 "metadata": {
  "interpreter": {
   "hash": "2953d833a590df50f23d6f48ae81a51be0ef55983dea0898b97870db6f7164bd"
  },
  "kernelspec": {
   "display_name": "Python 3.8.2 ('.venv': poetry)",
   "language": "python",
   "name": "python3"
  },
  "language_info": {
   "codemirror_mode": {
    "name": "ipython",
    "version": 3
   },
   "file_extension": ".py",
   "mimetype": "text/x-python",
   "name": "python",
   "nbconvert_exporter": "python",
   "pygments_lexer": "ipython3",
   "version": "3.8.2"
  },
  "orig_nbformat": 4
 },
 "nbformat": 4,
 "nbformat_minor": 2
}
